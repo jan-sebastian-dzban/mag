{
  "nbformat": 4,
  "nbformat_minor": 0,
  "metadata": {
    "colab": {
      "name": "animeGAN_inference.ipynb",
      "provenance": []
    },
    "kernelspec": {
      "name": "python3",
      "display_name": "Python 3"
    },
    "language_info": {
      "name": "python"
    },
    "accelerator": "GPU"
  },
  "cells": [
    {
      "cell_type": "code",
      "metadata": {
        "id": "8aB9Y3oub6pG",
        "outputId": "b460db60-03b9-432e-c329-cfd05d0d3f17",
        "colab": {
          "base_uri": "https://localhost:8080/"
        }
      },
      "source": [
        "from google.colab import output\n",
        "import torch\n",
        "\n",
        "repo = \"mag\"\n",
        "%cd \"/content\"\n",
        "!rm -rf {repo}\n",
        "!git clone https://github.com/jan-sebastian-dzban/{repo}\n",
        "%cd {repo}\n"
      ],
      "execution_count": 1,
      "outputs": [
        {
          "output_type": "stream",
          "name": "stdout",
          "text": [
            "/content\n",
            "Cloning into 'mag'...\n",
            "remote: Enumerating objects: 74, done.\u001b[K\n",
            "remote: Counting objects: 100% (16/16), done.\u001b[K\n",
            "remote: Compressing objects: 100% (16/16), done.\u001b[K\n",
            "remote: Total 74 (delta 5), reused 0 (delta 0), pack-reused 58\u001b[K\n",
            "Unpacking objects: 100% (74/74), 40.68 MiB | 4.76 MiB/s, done.\n",
            "/content/mag\n"
          ]
        }
      ]
    },
    {
      "cell_type": "code",
      "metadata": {
        "id": "yD4fkHkWcjlA",
        "outputId": "c47d5887-020e-4540-9a27-c916f95f92d1",
        "colab": {
          "base_uri": "https://localhost:8080/"
        }
      },
      "source": [
        "from inference import Transformer\n",
        "transformer = Transformer('Shinkai')  "
      ],
      "execution_count": 2,
      "outputs": [
        {
          "output_type": "stream",
          "name": "stderr",
          "text": [
            "Downloading https://github.com/jan-sebastian-dzban/mag/releases/download/v1.0.0/generator_shinkai.pth to .cache/generator_shinkai.pth: 45.2MB [00:01, 30.5MB/s]                            \n"
          ]
        },
        {
          "output_type": "stream",
          "name": "stdout",
          "text": [
            "Weight loaded, ready to predict\n"
          ]
        }
      ]
    },
    {
      "cell_type": "code",
      "metadata": {
        "id": "dqfzfetBcoUo"
      },
      "source": [
        "import cv2\n",
        "import random\n",
        "import matplotlib.pyplot as plt\n",
        "import os\n",
        "import numpy as np\n",
        "from utils import read_image, resize_image\n",
        "\n",
        "def random_img(img_dir):\n",
        "    files = [f for f in os.listdir(img_dir) if 'anime' not in f]\n",
        "    p = os.path.join(img_dir, random.choice(files))\n",
        "    return resize_image(read_image(p), width=612)\n",
        "\n",
        "# image = random_img('./example/result')\n",
        "url = 'https://cdn.vox-cdn.com/thumbor/gU6znSoxGS1oNf9XCxy0xBMxFiU=/0x0:6949x4638/1200x800/filters:focal(2920x1764:4030x2874)/cdn.vox-cdn.com/uploads/chorus_image/image/59204015/shutterstock_536517334.0.jpg'\n",
        "image = resize_image(read_image(url))\n",
        "\n",
        "anime_img = (transformer.transform(image) + 1) / 2\n",
        "\n",
        "fig = plt.figure(figsize=(18, 25))\n",
        "fig.add_subplot(1, 2, 1)\n",
        "plt.imshow(image)\n",
        "fig.add_subplot(1, 2, 2)\n",
        "plt.imshow(anime_img[0])\n",
        "plt.show()"
      ],
      "execution_count": null,
      "outputs": []
    },
    {
      "cell_type": "code",
      "metadata": {
        "id": "ZOOy8f9Vfdy9",
        "outputId": "6ccde43f-d620-4869-ba87-9f4c424995a0",
        "colab": {
          "base_uri": "https://localhost:8080/"
        }
      },
      "source": [
        "!python3 inference_video.py --checkpoint hayao\\\n",
        "                        --src /content/trailer.mp4\\\n",
        "                        --dest /content/trailer_anime.mp4\\\n",
        "                        --batch-size 2"
      ],
      "execution_count": null,
      "outputs": [
        {
          "output_type": "stream",
          "text": [
            "Weight loaded, ready to predict\n",
            "Transfroming video /content/trailer.mp4, 4350 frames, size: [1280, 720]\n",
            "4351it [48:23,  1.50it/s]\n",
            "Animation video saved to /content/trailer_anime.mp4\n"
          ],
          "name": "stdout"
        }
      ]
    }
  ]
}